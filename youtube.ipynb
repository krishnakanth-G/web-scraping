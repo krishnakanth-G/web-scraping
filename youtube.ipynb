{
 "cells": [
  {
   "cell_type": "markdown",
   "id": "292e7046",
   "metadata": {},
   "source": [
    "# Scraping data from Youtube"
   ]
  },
  {
   "cell_type": "code",
   "execution_count": 1,
   "id": "453591f3",
   "metadata": {},
   "outputs": [],
   "source": [
    "from selenium import webdriver\n",
    "from selenium.webdriver.chrome.service import Service\n",
    "from webdriver_manager.chrome import ChromeDriverManager\n",
    "from bs4 import BeautifulSoup\n",
    "import pandas as pd"
   ]
  },
  {
   "cell_type": "code",
   "execution_count": 2,
   "id": "da197539",
   "metadata": {},
   "outputs": [],
   "source": [
    "weburl = 'https://www.youtube.com'"
   ]
  },
  {
   "cell_type": "code",
   "execution_count": 3,
   "id": "c6614e03",
   "metadata": {},
   "outputs": [],
   "source": [
    "driver = webdriver.Chrome(service=Service(ChromeDriverManager().install()))\n",
    "driver.get(weburl)"
   ]
  },
  {
   "cell_type": "code",
   "execution_count": 4,
   "id": "8d6967af",
   "metadata": {},
   "outputs": [],
   "source": [
    "soup = BeautifulSoup(driver.page_source, 'html.parser')"
   ]
  },
  {
   "cell_type": "code",
   "execution_count": 5,
   "id": "42fed49e",
   "metadata": {},
   "outputs": [],
   "source": [
    "titles = []\n",
    "channels = []\n",
    "channel_links = []\n",
    "views = []\n",
    "lengths = []\n",
    "links = []\n",
    "\n",
    "for a in soup.findAll(attrs={'id':'dismissible','class':'style-scope ytd-rich-grid-media'}):\n",
    "    title=a.find('yt-formatted-string', attrs={'id':'video-title','class':'style-scope ytd-rich-grid-media'})\n",
    "    titles.append(title.text)\n",
    "    channel = a.find('yt-formatted-string', attrs={'id':'text','class':'style-scope ytd-channel-name complex-string'})\n",
    "    channels.append(channel.text)\n",
    "    channel_links.append(weburl+channel.a.get('href'))\n",
    "    view = a.find('div',attrs={'id':'metadata-line','class':'style-scope ytd-video-meta-block'})\n",
    "    views.append(view.span.text)\n",
    "    length = a.find('span',attrs={'id':'text','class':'style-scope ytd-thumbnail-overlay-time-status-renderer'})\n",
    "    if length:\n",
    "        lengths.append(length.text.strip())\n",
    "    else:\n",
    "        lengths.append(None)\n",
    "    link = a.find('a',attrs={'id':'video-title-link','class':'yt-simple-endpoint focus-on-expand style-scope ytd-rich-grid-media'})\n",
    "    links.append(weburl+link.get('href'))"
   ]
  },
  {
   "cell_type": "code",
   "execution_count": 6,
   "id": "3d099193",
   "metadata": {},
   "outputs": [],
   "source": [
    "youtube_data = pd.DataFrame(data={\"Title\":titles,\"channel name\":channels,\"channel link\":channel_links,\"views\":views,\"Video length\":lengths,\"Link\":links})"
   ]
  },
  {
   "cell_type": "code",
   "execution_count": 7,
   "id": "a22bfb57",
   "metadata": {},
   "outputs": [
    {
     "data": {
      "text/plain": [
       "(387, 6)"
      ]
     },
     "execution_count": 7,
     "metadata": {},
     "output_type": "execute_result"
    }
   ],
   "source": [
    "youtube_data.shape"
   ]
  },
  {
   "cell_type": "code",
   "execution_count": 8,
   "id": "cd03ec14",
   "metadata": {
    "scrolled": true
   },
   "outputs": [
    {
     "data": {
      "text/plain": [
       "Title           0\n",
       "channel name    0\n",
       "channel link    0\n",
       "views           0\n",
       "Video length    7\n",
       "Link            0\n",
       "dtype: int64"
      ]
     },
     "execution_count": 8,
     "metadata": {},
     "output_type": "execute_result"
    }
   ],
   "source": [
    "youtube_data.isna().sum()"
   ]
  },
  {
   "cell_type": "code",
   "execution_count": 9,
   "id": "e88f75df",
   "metadata": {},
   "outputs": [],
   "source": [
    "youtube_data.to_csv(\"youtube.csv\",index=False)"
   ]
  },
  {
   "cell_type": "code",
   "execution_count": null,
   "id": "c0034259",
   "metadata": {},
   "outputs": [],
   "source": []
  }
 ],
 "metadata": {
  "kernelspec": {
   "display_name": "Python 3 (ipykernel)",
   "language": "python",
   "name": "python3"
  },
  "language_info": {
   "codemirror_mode": {
    "name": "ipython",
    "version": 3
   },
   "file_extension": ".py",
   "mimetype": "text/x-python",
   "name": "python",
   "nbconvert_exporter": "python",
   "pygments_lexer": "ipython3",
   "version": "3.9.12"
  }
 },
 "nbformat": 4,
 "nbformat_minor": 5
}
